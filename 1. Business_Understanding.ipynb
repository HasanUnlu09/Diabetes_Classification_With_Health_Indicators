{
 "cells": [
  {
   "cell_type": "markdown",
   "id": "da8291d4",
   "metadata": {},
   "source": [
    "# Business Understanding"
   ]
  },
  {
   "cell_type": "markdown",
   "id": "8cf07391-b4d1-451c-9041-c58425c9833c",
   "metadata": {},
   "source": [
    "---"
   ]
  },
  {
   "cell_type": "markdown",
   "id": "623922b4-d029-49eb-8b1d-e7e805e40e55",
   "metadata": {},
   "source": [
    "In this project, the following question is tried to answer;  \n",
    "**Can we determine if a person has diabetes or not by considering criterias on hand?**"
   ]
  },
  {
   "cell_type": "markdown",
   "id": "6220241f-2042-4608-9fe1-2ba97017a2e7",
   "metadata": {},
   "source": [
    "---"
   ]
  }
 ],
 "metadata": {
  "kernelspec": {
   "display_name": "Python 3 (ipykernel)",
   "language": "python",
   "name": "python3"
  },
  "language_info": {
   "codemirror_mode": {
    "name": "ipython",
    "version": 3
   },
   "file_extension": ".py",
   "mimetype": "text/x-python",
   "name": "python",
   "nbconvert_exporter": "python",
   "pygments_lexer": "ipython3",
   "version": "3.11.5"
  }
 },
 "nbformat": 4,
 "nbformat_minor": 5
}
