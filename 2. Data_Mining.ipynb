{
 "cells": [
  {
   "cell_type": "markdown",
   "id": "a2cc9ab7-d3de-41cd-974d-f810654e581c",
   "metadata": {},
   "source": [
    "# Data Mining"
   ]
  },
  {
   "cell_type": "markdown",
   "id": "5b57dbe2",
   "metadata": {},
   "source": [
    "The dataset is obtained from the [**Diabetes Health Indicators Dataset in Kaggle**](https://www.kaggle.com/datasets/alexteboul/diabetes-health-indicators-dataset) webpage in CSV format."
   ]
  },
  {
   "cell_type": "markdown",
   "id": "0d1e1675-a88d-4082-a39a-d86a37a4a4a0",
   "metadata": {},
   "source": [
    "---"
   ]
  }
 ],
 "metadata": {
  "kernelspec": {
   "display_name": "Python 3 (ipykernel)",
   "language": "python",
   "name": "python3"
  },
  "language_info": {
   "codemirror_mode": {
    "name": "ipython",
    "version": 3
   },
   "file_extension": ".py",
   "mimetype": "text/x-python",
   "name": "python",
   "nbconvert_exporter": "python",
   "pygments_lexer": "ipython3",
   "version": "3.11.5"
  }
 },
 "nbformat": 4,
 "nbformat_minor": 5
}
